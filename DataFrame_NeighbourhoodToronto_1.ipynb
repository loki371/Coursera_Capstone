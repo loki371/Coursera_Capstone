{
  "nbformat": 4,
  "nbformat_minor": 0,
  "metadata": {
    "colab": {
      "name": "ClusteringNeighborhoodInToronto.ipynb",
      "provenance": [],
      "toc_visible": true
    },
    "kernelspec": {
      "name": "python3",
      "display_name": "Python 3"
    }
  },
  "cells": [
    {
      "cell_type": "markdown",
      "metadata": {
        "id": "roY_wOdR351f",
        "colab_type": "text"
      },
      "source": [
        "#First, I need to import something"
      ]
    },
    {
      "cell_type": "code",
      "metadata": {
        "id": "u5AKfXRMmHRl",
        "colab_type": "code",
        "colab": {}
      },
      "source": [
        "import pandas as pd\n",
        "import numpy as np"
      ],
      "execution_count": 0,
      "outputs": []
    },
    {
      "cell_type": "markdown",
      "metadata": {
        "id": "m3gOmOkxkRnl",
        "colab_type": "text"
      },
      "source": [
        "# Read CSV file \n",
        "I downloaded it and import to this path: '/content/PostCode_Canada.csv'"
      ]
    },
    {
      "cell_type": "code",
      "metadata": {
        "id": "KvSshLHXjBpk",
        "colab_type": "code",
        "colab": {
          "base_uri": "https://localhost:8080/",
          "height": 204
        },
        "outputId": "d140f7f2-ca6e-4dc2-e742-8a3d1f7fb3fe"
      },
      "source": [
        "df = pd.read_csv('/content/PostCode_Canada.csv')\n",
        "df.head()"
      ],
      "execution_count": 160,
      "outputs": [
        {
          "output_type": "execute_result",
          "data": {
            "text/html": [
              "<div>\n",
              "<style scoped>\n",
              "    .dataframe tbody tr th:only-of-type {\n",
              "        vertical-align: middle;\n",
              "    }\n",
              "\n",
              "    .dataframe tbody tr th {\n",
              "        vertical-align: top;\n",
              "    }\n",
              "\n",
              "    .dataframe thead th {\n",
              "        text-align: right;\n",
              "    }\n",
              "</style>\n",
              "<table border=\"1\" class=\"dataframe\">\n",
              "  <thead>\n",
              "    <tr style=\"text-align: right;\">\n",
              "      <th></th>\n",
              "      <th>Postcode</th>\n",
              "      <th>Borough</th>\n",
              "      <th>Neighbourhood</th>\n",
              "    </tr>\n",
              "  </thead>\n",
              "  <tbody>\n",
              "    <tr>\n",
              "      <th>0</th>\n",
              "      <td>M9Z</td>\n",
              "      <td>Not assigned</td>\n",
              "      <td>Not assigned</td>\n",
              "    </tr>\n",
              "    <tr>\n",
              "      <th>1</th>\n",
              "      <td>M9Y</td>\n",
              "      <td>Not assigned</td>\n",
              "      <td>Not assigned</td>\n",
              "    </tr>\n",
              "    <tr>\n",
              "      <th>2</th>\n",
              "      <td>M9X</td>\n",
              "      <td>Not assigned</td>\n",
              "      <td>Not assigned</td>\n",
              "    </tr>\n",
              "    <tr>\n",
              "      <th>3</th>\n",
              "      <td>M9W</td>\n",
              "      <td>Etobicoke</td>\n",
              "      <td>Northwest</td>\n",
              "    </tr>\n",
              "    <tr>\n",
              "      <th>4</th>\n",
              "      <td>M9V</td>\n",
              "      <td>Etobicoke</td>\n",
              "      <td>Albion Gardens</td>\n",
              "    </tr>\n",
              "  </tbody>\n",
              "</table>\n",
              "</div>"
            ],
            "text/plain": [
              "  Postcode       Borough   Neighbourhood\n",
              "0      M9Z  Not assigned    Not assigned\n",
              "1      M9Y  Not assigned    Not assigned\n",
              "2      M9X  Not assigned    Not assigned\n",
              "3      M9W     Etobicoke       Northwest\n",
              "4      M9V     Etobicoke  Albion Gardens"
            ]
          },
          "metadata": {
            "tags": []
          },
          "execution_count": 160
        }
      ]
    },
    {
      "cell_type": "markdown",
      "metadata": {
        "id": "ZJ_HJUWGkgOi",
        "colab_type": "text"
      },
      "source": [
        "#Remove *Not assigned* value in **Borough**\n"
      ]
    },
    {
      "cell_type": "code",
      "metadata": {
        "id": "ZsBJj2Rlklt-",
        "colab_type": "code",
        "colab": {
          "base_uri": "https://localhost:8080/",
          "height": 204
        },
        "outputId": "543da1b9-30b0-4cec-a549-a74ddb5bf5bb"
      },
      "source": [
        "df[\"Borough\"].replace(\"Not assigned\", np.nan, inplace=True)\n",
        "df.dropna(subset=[\"Borough\"], axis=0, inplace=True)\n",
        "df.index = range(len(df.index))\n",
        "df.head()"
      ],
      "execution_count": 161,
      "outputs": [
        {
          "output_type": "execute_result",
          "data": {
            "text/html": [
              "<div>\n",
              "<style scoped>\n",
              "    .dataframe tbody tr th:only-of-type {\n",
              "        vertical-align: middle;\n",
              "    }\n",
              "\n",
              "    .dataframe tbody tr th {\n",
              "        vertical-align: top;\n",
              "    }\n",
              "\n",
              "    .dataframe thead th {\n",
              "        text-align: right;\n",
              "    }\n",
              "</style>\n",
              "<table border=\"1\" class=\"dataframe\">\n",
              "  <thead>\n",
              "    <tr style=\"text-align: right;\">\n",
              "      <th></th>\n",
              "      <th>Postcode</th>\n",
              "      <th>Borough</th>\n",
              "      <th>Neighbourhood</th>\n",
              "    </tr>\n",
              "  </thead>\n",
              "  <tbody>\n",
              "    <tr>\n",
              "      <th>0</th>\n",
              "      <td>M9W</td>\n",
              "      <td>Etobicoke</td>\n",
              "      <td>Northwest</td>\n",
              "    </tr>\n",
              "    <tr>\n",
              "      <th>1</th>\n",
              "      <td>M9V</td>\n",
              "      <td>Etobicoke</td>\n",
              "      <td>Albion Gardens</td>\n",
              "    </tr>\n",
              "    <tr>\n",
              "      <th>2</th>\n",
              "      <td>M9V</td>\n",
              "      <td>Etobicoke</td>\n",
              "      <td>Beaumond Heights</td>\n",
              "    </tr>\n",
              "    <tr>\n",
              "      <th>3</th>\n",
              "      <td>M9V</td>\n",
              "      <td>Etobicoke</td>\n",
              "      <td>Humbergate</td>\n",
              "    </tr>\n",
              "    <tr>\n",
              "      <th>4</th>\n",
              "      <td>M9V</td>\n",
              "      <td>Etobicoke</td>\n",
              "      <td>Jamestown</td>\n",
              "    </tr>\n",
              "  </tbody>\n",
              "</table>\n",
              "</div>"
            ],
            "text/plain": [
              "  Postcode    Borough     Neighbourhood\n",
              "0      M9W  Etobicoke         Northwest\n",
              "1      M9V  Etobicoke    Albion Gardens\n",
              "2      M9V  Etobicoke  Beaumond Heights\n",
              "3      M9V  Etobicoke        Humbergate\n",
              "4      M9V  Etobicoke         Jamestown"
            ]
          },
          "metadata": {
            "tags": []
          },
          "execution_count": 161
        }
      ]
    },
    {
      "cell_type": "markdown",
      "metadata": {
        "id": "B8LR7R6E4UUw",
        "colab_type": "text"
      },
      "source": [
        "# Next, *Not assigned* in **Neighbourhood** is filled by value of **Borough**"
      ]
    },
    {
      "cell_type": "code",
      "metadata": {
        "id": "qIxC8LWj3Aqi",
        "colab_type": "code",
        "colab": {}
      },
      "source": [
        "for i, row in df.iterrows():\n",
        "  if df.loc[i][\"Neighbourhood\"] == \"Not assigned\":\n",
        "    df.loc[i][\"Neighbourhood\"] = df.loc[i][\"Borough\"]"
      ],
      "execution_count": 0,
      "outputs": []
    },
    {
      "cell_type": "markdown",
      "metadata": {
        "id": "rcMyVg7z42mU",
        "colab_type": "text"
      },
      "source": [
        "#Combinate all same Postcode values."
      ]
    },
    {
      "cell_type": "code",
      "metadata": {
        "id": "PcKDQ4iZmuZg",
        "colab_type": "code",
        "colab": {}
      },
      "source": [
        "pre_i = 0\n",
        "for i, row in df.iterrows():\n",
        "  if i == 0:\n",
        "    continue\n",
        "  if df.loc[pre_i][\"Postcode\"] == row[\"Postcode\"]:\n",
        "    df.loc[pre_i][\"Neighbourhood\"] += \", \" + row[\"Neighbourhood\"]\n",
        "    df.drop(labels=i, axis=0, inplace=True)\n",
        "  else:\n",
        "    pre_i = i"
      ],
      "execution_count": 0,
      "outputs": []
    },
    {
      "cell_type": "markdown",
      "metadata": {
        "id": "m8RUVMHF33y_",
        "colab_type": "text"
      },
      "source": [
        "# Finally, reindex df and show it\n"
      ]
    },
    {
      "cell_type": "code",
      "metadata": {
        "id": "hf3VEGD1nrDG",
        "colab_type": "code",
        "colab": {
          "base_uri": "https://localhost:8080/",
          "height": 204
        },
        "outputId": "4b39e2e4-6de9-4883-ddf8-2b4cf1a7b18d"
      },
      "source": [
        "df.index = range(len(df.index))\n",
        "df.head()"
      ],
      "execution_count": 164,
      "outputs": [
        {
          "output_type": "execute_result",
          "data": {
            "text/html": [
              "<div>\n",
              "<style scoped>\n",
              "    .dataframe tbody tr th:only-of-type {\n",
              "        vertical-align: middle;\n",
              "    }\n",
              "\n",
              "    .dataframe tbody tr th {\n",
              "        vertical-align: top;\n",
              "    }\n",
              "\n",
              "    .dataframe thead th {\n",
              "        text-align: right;\n",
              "    }\n",
              "</style>\n",
              "<table border=\"1\" class=\"dataframe\">\n",
              "  <thead>\n",
              "    <tr style=\"text-align: right;\">\n",
              "      <th></th>\n",
              "      <th>Postcode</th>\n",
              "      <th>Borough</th>\n",
              "      <th>Neighbourhood</th>\n",
              "    </tr>\n",
              "  </thead>\n",
              "  <tbody>\n",
              "    <tr>\n",
              "      <th>0</th>\n",
              "      <td>M9W</td>\n",
              "      <td>Etobicoke</td>\n",
              "      <td>Northwest</td>\n",
              "    </tr>\n",
              "    <tr>\n",
              "      <th>1</th>\n",
              "      <td>M9V</td>\n",
              "      <td>Etobicoke</td>\n",
              "      <td>Albion Gardens, Beaumond Heights, Humbergate, ...</td>\n",
              "    </tr>\n",
              "    <tr>\n",
              "      <th>2</th>\n",
              "      <td>M9R</td>\n",
              "      <td>Etobicoke</td>\n",
              "      <td>Kingsview Village, Martin Grove Gardens, Richv...</td>\n",
              "    </tr>\n",
              "    <tr>\n",
              "      <th>3</th>\n",
              "      <td>M9P</td>\n",
              "      <td>Etobicoke</td>\n",
              "      <td>Westmount</td>\n",
              "    </tr>\n",
              "    <tr>\n",
              "      <th>4</th>\n",
              "      <td>M9N</td>\n",
              "      <td>York</td>\n",
              "      <td>Weston</td>\n",
              "    </tr>\n",
              "  </tbody>\n",
              "</table>\n",
              "</div>"
            ],
            "text/plain": [
              "  Postcode    Borough                                      Neighbourhood\n",
              "0      M9W  Etobicoke                                          Northwest\n",
              "1      M9V  Etobicoke  Albion Gardens, Beaumond Heights, Humbergate, ...\n",
              "2      M9R  Etobicoke  Kingsview Village, Martin Grove Gardens, Richv...\n",
              "3      M9P  Etobicoke                                          Westmount\n",
              "4      M9N       York                                             Weston"
            ]
          },
          "metadata": {
            "tags": []
          },
          "execution_count": 164
        }
      ]
    },
    {
      "cell_type": "code",
      "metadata": {
        "id": "F2rc12O64ujP",
        "colab_type": "code",
        "colab": {
          "base_uri": "https://localhost:8080/",
          "height": 34
        },
        "outputId": "f625a87b-6c24-4f84-8e5b-891279b860fe"
      },
      "source": [
        "df.shape"
      ],
      "execution_count": 165,
      "outputs": [
        {
          "output_type": "execute_result",
          "data": {
            "text/plain": [
              "(103, 3)"
            ]
          },
          "metadata": {
            "tags": []
          },
          "execution_count": 165
        }
      ]
    }
  ]
}