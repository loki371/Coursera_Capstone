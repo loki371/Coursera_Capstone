{
  "nbformat": 4,
  "nbformat_minor": 0,
  "metadata": {
    "colab": {
      "name": "ClusteringNeighborhoodInToronto_2.ipynb",
      "provenance": []
    },
    "kernelspec": {
      "name": "python3",
      "display_name": "Python 3"
    }
  },
  "cells": [
    {
      "cell_type": "markdown",
      "metadata": {
        "id": "hCpkYpUz66tW",
        "colab_type": "text"
      },
      "source": [
        "# **Part 1**"
      ]
    },
    {
      "cell_type": "markdown",
      "metadata": {
        "id": "roY_wOdR351f",
        "colab_type": "text"
      },
      "source": [
        "## First, I need to import something"
      ]
    },
    {
      "cell_type": "code",
      "metadata": {
        "id": "u5AKfXRMmHRl",
        "colab_type": "code",
        "colab": {}
      },
      "source": [
        "import pandas as pd\n",
        "import numpy as np"
      ],
      "execution_count": 0,
      "outputs": []
    },
    {
      "cell_type": "markdown",
      "metadata": {
        "id": "m3gOmOkxkRnl",
        "colab_type": "text"
      },
      "source": [
        "## Read CSV file \n",
        "I downloaded it and import to this path: '/content/PostCode_Canada.csv'"
      ]
    },
    {
      "cell_type": "code",
      "metadata": {
        "id": "KvSshLHXjBpk",
        "colab_type": "code",
        "colab": {
          "base_uri": "https://localhost:8080/",
          "height": 0
        },
        "outputId": "176479ec-dede-4261-9079-122bffa14a89"
      },
      "source": [
        "df = pd.read_csv('/content/PostCode_Canada.csv')\n",
        "df.head()"
      ],
      "execution_count": 448,
      "outputs": [
        {
          "output_type": "execute_result",
          "data": {
            "text/html": [
              "<div>\n",
              "<style scoped>\n",
              "    .dataframe tbody tr th:only-of-type {\n",
              "        vertical-align: middle;\n",
              "    }\n",
              "\n",
              "    .dataframe tbody tr th {\n",
              "        vertical-align: top;\n",
              "    }\n",
              "\n",
              "    .dataframe thead th {\n",
              "        text-align: right;\n",
              "    }\n",
              "</style>\n",
              "<table border=\"1\" class=\"dataframe\">\n",
              "  <thead>\n",
              "    <tr style=\"text-align: right;\">\n",
              "      <th></th>\n",
              "      <th>Postcode</th>\n",
              "      <th>Borough</th>\n",
              "      <th>Neighbourhood</th>\n",
              "    </tr>\n",
              "  </thead>\n",
              "  <tbody>\n",
              "    <tr>\n",
              "      <th>0</th>\n",
              "      <td>M9Z</td>\n",
              "      <td>Not assigned</td>\n",
              "      <td>Not assigned</td>\n",
              "    </tr>\n",
              "    <tr>\n",
              "      <th>1</th>\n",
              "      <td>M9Y</td>\n",
              "      <td>Not assigned</td>\n",
              "      <td>Not assigned</td>\n",
              "    </tr>\n",
              "    <tr>\n",
              "      <th>2</th>\n",
              "      <td>M9X</td>\n",
              "      <td>Not assigned</td>\n",
              "      <td>Not assigned</td>\n",
              "    </tr>\n",
              "    <tr>\n",
              "      <th>3</th>\n",
              "      <td>M9W</td>\n",
              "      <td>Etobicoke</td>\n",
              "      <td>Northwest</td>\n",
              "    </tr>\n",
              "    <tr>\n",
              "      <th>4</th>\n",
              "      <td>M9V</td>\n",
              "      <td>Etobicoke</td>\n",
              "      <td>Albion Gardens</td>\n",
              "    </tr>\n",
              "  </tbody>\n",
              "</table>\n",
              "</div>"
            ],
            "text/plain": [
              "  Postcode       Borough   Neighbourhood\n",
              "0      M9Z  Not assigned    Not assigned\n",
              "1      M9Y  Not assigned    Not assigned\n",
              "2      M9X  Not assigned    Not assigned\n",
              "3      M9W     Etobicoke       Northwest\n",
              "4      M9V     Etobicoke  Albion Gardens"
            ]
          },
          "metadata": {
            "tags": []
          },
          "execution_count": 448
        }
      ]
    },
    {
      "cell_type": "markdown",
      "metadata": {
        "id": "ZJ_HJUWGkgOi",
        "colab_type": "text"
      },
      "source": [
        "##Remove *Not assigned* value in **Borough**\n"
      ]
    },
    {
      "cell_type": "code",
      "metadata": {
        "id": "ZsBJj2Rlklt-",
        "colab_type": "code",
        "colab": {
          "base_uri": "https://localhost:8080/",
          "height": 0
        },
        "outputId": "cbf3e176-2efb-4a5b-c0b4-ef71eefbeae4"
      },
      "source": [
        "df[\"Borough\"].replace(\"Not assigned\", np.nan, inplace=True)\n",
        "df.dropna(subset=[\"Borough\"], axis=0, inplace=True)\n",
        "df.index = range(len(df.index))\n",
        "df.head()"
      ],
      "execution_count": 449,
      "outputs": [
        {
          "output_type": "execute_result",
          "data": {
            "text/html": [
              "<div>\n",
              "<style scoped>\n",
              "    .dataframe tbody tr th:only-of-type {\n",
              "        vertical-align: middle;\n",
              "    }\n",
              "\n",
              "    .dataframe tbody tr th {\n",
              "        vertical-align: top;\n",
              "    }\n",
              "\n",
              "    .dataframe thead th {\n",
              "        text-align: right;\n",
              "    }\n",
              "</style>\n",
              "<table border=\"1\" class=\"dataframe\">\n",
              "  <thead>\n",
              "    <tr style=\"text-align: right;\">\n",
              "      <th></th>\n",
              "      <th>Postcode</th>\n",
              "      <th>Borough</th>\n",
              "      <th>Neighbourhood</th>\n",
              "    </tr>\n",
              "  </thead>\n",
              "  <tbody>\n",
              "    <tr>\n",
              "      <th>0</th>\n",
              "      <td>M9W</td>\n",
              "      <td>Etobicoke</td>\n",
              "      <td>Northwest</td>\n",
              "    </tr>\n",
              "    <tr>\n",
              "      <th>1</th>\n",
              "      <td>M9V</td>\n",
              "      <td>Etobicoke</td>\n",
              "      <td>Albion Gardens</td>\n",
              "    </tr>\n",
              "    <tr>\n",
              "      <th>2</th>\n",
              "      <td>M9V</td>\n",
              "      <td>Etobicoke</td>\n",
              "      <td>Beaumond Heights</td>\n",
              "    </tr>\n",
              "    <tr>\n",
              "      <th>3</th>\n",
              "      <td>M9V</td>\n",
              "      <td>Etobicoke</td>\n",
              "      <td>Humbergate</td>\n",
              "    </tr>\n",
              "    <tr>\n",
              "      <th>4</th>\n",
              "      <td>M9V</td>\n",
              "      <td>Etobicoke</td>\n",
              "      <td>Jamestown</td>\n",
              "    </tr>\n",
              "  </tbody>\n",
              "</table>\n",
              "</div>"
            ],
            "text/plain": [
              "  Postcode    Borough     Neighbourhood\n",
              "0      M9W  Etobicoke         Northwest\n",
              "1      M9V  Etobicoke    Albion Gardens\n",
              "2      M9V  Etobicoke  Beaumond Heights\n",
              "3      M9V  Etobicoke        Humbergate\n",
              "4      M9V  Etobicoke         Jamestown"
            ]
          },
          "metadata": {
            "tags": []
          },
          "execution_count": 449
        }
      ]
    },
    {
      "cell_type": "markdown",
      "metadata": {
        "id": "B8LR7R6E4UUw",
        "colab_type": "text"
      },
      "source": [
        "## Next, *Not assigned* in **Neighbourhood** is filled by value of **Borough**"
      ]
    },
    {
      "cell_type": "code",
      "metadata": {
        "id": "qIxC8LWj3Aqi",
        "colab_type": "code",
        "colab": {}
      },
      "source": [
        "for i, row in df.iterrows():\n",
        "  if df.loc[i][\"Neighbourhood\"] == \"Not assigned\":\n",
        "    df.loc[i][\"Neighbourhood\"] = df.loc[i][\"Borough\"]"
      ],
      "execution_count": 0,
      "outputs": []
    },
    {
      "cell_type": "markdown",
      "metadata": {
        "id": "rcMyVg7z42mU",
        "colab_type": "text"
      },
      "source": [
        "##Combinate all same Postcode values."
      ]
    },
    {
      "cell_type": "code",
      "metadata": {
        "id": "PcKDQ4iZmuZg",
        "colab_type": "code",
        "colab": {}
      },
      "source": [
        "pre_i = 0\n",
        "for i, row in df.iterrows():\n",
        "  if i == 0:\n",
        "    continue\n",
        "  if df.loc[pre_i][\"Postcode\"] == row[\"Postcode\"]:\n",
        "    df.loc[pre_i][\"Neighbourhood\"] += \", \" + row[\"Neighbourhood\"]\n",
        "    df.drop(labels=i, axis=0, inplace=True)\n",
        "  else:\n",
        "    pre_i = i"
      ],
      "execution_count": 0,
      "outputs": []
    },
    {
      "cell_type": "markdown",
      "metadata": {
        "id": "m8RUVMHF33y_",
        "colab_type": "text"
      },
      "source": [
        "## Finally, reindex df and show it\n"
      ]
    },
    {
      "cell_type": "code",
      "metadata": {
        "id": "hf3VEGD1nrDG",
        "colab_type": "code",
        "colab": {
          "base_uri": "https://localhost:8080/",
          "height": 0
        },
        "outputId": "98b24618-3b7d-4463-e67a-9df526a2e16c"
      },
      "source": [
        "df.index = range(len(df.index))\n",
        "df.head()"
      ],
      "execution_count": 452,
      "outputs": [
        {
          "output_type": "execute_result",
          "data": {
            "text/html": [
              "<div>\n",
              "<style scoped>\n",
              "    .dataframe tbody tr th:only-of-type {\n",
              "        vertical-align: middle;\n",
              "    }\n",
              "\n",
              "    .dataframe tbody tr th {\n",
              "        vertical-align: top;\n",
              "    }\n",
              "\n",
              "    .dataframe thead th {\n",
              "        text-align: right;\n",
              "    }\n",
              "</style>\n",
              "<table border=\"1\" class=\"dataframe\">\n",
              "  <thead>\n",
              "    <tr style=\"text-align: right;\">\n",
              "      <th></th>\n",
              "      <th>Postcode</th>\n",
              "      <th>Borough</th>\n",
              "      <th>Neighbourhood</th>\n",
              "    </tr>\n",
              "  </thead>\n",
              "  <tbody>\n",
              "    <tr>\n",
              "      <th>0</th>\n",
              "      <td>M9W</td>\n",
              "      <td>Etobicoke</td>\n",
              "      <td>Northwest</td>\n",
              "    </tr>\n",
              "    <tr>\n",
              "      <th>1</th>\n",
              "      <td>M9V</td>\n",
              "      <td>Etobicoke</td>\n",
              "      <td>Albion Gardens, Beaumond Heights, Humbergate, ...</td>\n",
              "    </tr>\n",
              "    <tr>\n",
              "      <th>2</th>\n",
              "      <td>M9R</td>\n",
              "      <td>Etobicoke</td>\n",
              "      <td>Kingsview Village, Martin Grove Gardens, Richv...</td>\n",
              "    </tr>\n",
              "    <tr>\n",
              "      <th>3</th>\n",
              "      <td>M9P</td>\n",
              "      <td>Etobicoke</td>\n",
              "      <td>Westmount</td>\n",
              "    </tr>\n",
              "    <tr>\n",
              "      <th>4</th>\n",
              "      <td>M9N</td>\n",
              "      <td>York</td>\n",
              "      <td>Weston</td>\n",
              "    </tr>\n",
              "  </tbody>\n",
              "</table>\n",
              "</div>"
            ],
            "text/plain": [
              "  Postcode    Borough                                      Neighbourhood\n",
              "0      M9W  Etobicoke                                          Northwest\n",
              "1      M9V  Etobicoke  Albion Gardens, Beaumond Heights, Humbergate, ...\n",
              "2      M9R  Etobicoke  Kingsview Village, Martin Grove Gardens, Richv...\n",
              "3      M9P  Etobicoke                                          Westmount\n",
              "4      M9N       York                                             Weston"
            ]
          },
          "metadata": {
            "tags": []
          },
          "execution_count": 452
        }
      ]
    },
    {
      "cell_type": "code",
      "metadata": {
        "id": "F2rc12O64ujP",
        "colab_type": "code",
        "colab": {
          "base_uri": "https://localhost:8080/",
          "height": 0
        },
        "outputId": "09264909-b9b8-441a-d242-a119fcf5460d"
      },
      "source": [
        "df.shape"
      ],
      "execution_count": 453,
      "outputs": [
        {
          "output_type": "execute_result",
          "data": {
            "text/plain": [
              "(103, 3)"
            ]
          },
          "metadata": {
            "tags": []
          },
          "execution_count": 453
        }
      ]
    },
    {
      "cell_type": "markdown",
      "metadata": {
        "id": "i1n6BBx665nN",
        "colab_type": "text"
      },
      "source": [
        "#**Part 2**\n",
        "Because it is too long for waiting response from geocoder. So I use Geospatial_Coordinated.csv file."
      ]
    },
    {
      "cell_type": "code",
      "metadata": {
        "id": "UBzTam7P80lt",
        "colab_type": "code",
        "colab": {
          "base_uri": "https://localhost:8080/",
          "height": 235
        },
        "outputId": "674ec131-0074-4b8d-8c0b-e5a571b92632"
      },
      "source": [
        "geo_df = pd.read_csv('/content/Geospatial_Coordinates.csv')\n",
        "geo_df.rename(columns={\"Postal Code\" : \"Postcode\"}, inplace=True)\n",
        "geo_df.set_index(keys=\"Postcode\", inplace=True)\n",
        "geo_df.head()"
      ],
      "execution_count": 454,
      "outputs": [
        {
          "output_type": "execute_result",
          "data": {
            "text/html": [
              "<div>\n",
              "<style scoped>\n",
              "    .dataframe tbody tr th:only-of-type {\n",
              "        vertical-align: middle;\n",
              "    }\n",
              "\n",
              "    .dataframe tbody tr th {\n",
              "        vertical-align: top;\n",
              "    }\n",
              "\n",
              "    .dataframe thead th {\n",
              "        text-align: right;\n",
              "    }\n",
              "</style>\n",
              "<table border=\"1\" class=\"dataframe\">\n",
              "  <thead>\n",
              "    <tr style=\"text-align: right;\">\n",
              "      <th></th>\n",
              "      <th>Latitude</th>\n",
              "      <th>Longitude</th>\n",
              "    </tr>\n",
              "    <tr>\n",
              "      <th>Postcode</th>\n",
              "      <th></th>\n",
              "      <th></th>\n",
              "    </tr>\n",
              "  </thead>\n",
              "  <tbody>\n",
              "    <tr>\n",
              "      <th>M1B</th>\n",
              "      <td>43.806686</td>\n",
              "      <td>-79.194353</td>\n",
              "    </tr>\n",
              "    <tr>\n",
              "      <th>M1C</th>\n",
              "      <td>43.784535</td>\n",
              "      <td>-79.160497</td>\n",
              "    </tr>\n",
              "    <tr>\n",
              "      <th>M1E</th>\n",
              "      <td>43.763573</td>\n",
              "      <td>-79.188711</td>\n",
              "    </tr>\n",
              "    <tr>\n",
              "      <th>M1G</th>\n",
              "      <td>43.770992</td>\n",
              "      <td>-79.216917</td>\n",
              "    </tr>\n",
              "    <tr>\n",
              "      <th>M1H</th>\n",
              "      <td>43.773136</td>\n",
              "      <td>-79.239476</td>\n",
              "    </tr>\n",
              "  </tbody>\n",
              "</table>\n",
              "</div>"
            ],
            "text/plain": [
              "           Latitude  Longitude\n",
              "Postcode                      \n",
              "M1B       43.806686 -79.194353\n",
              "M1C       43.784535 -79.160497\n",
              "M1E       43.763573 -79.188711\n",
              "M1G       43.770992 -79.216917\n",
              "M1H       43.773136 -79.239476"
            ]
          },
          "metadata": {
            "tags": []
          },
          "execution_count": 454
        }
      ]
    },
    {
      "cell_type": "code",
      "metadata": {
        "id": "cnLs1ohY9dPr",
        "colab_type": "code",
        "colab": {
          "base_uri": "https://localhost:8080/",
          "height": 204
        },
        "outputId": "450bd304-a5f9-4b09-bff5-fe13b94e4cce"
      },
      "source": [
        "df[\"Latitude\"] = np.zeros(df.shape[0])\n",
        "df[\"Longitude\"] = np.zeros(df.shape[0])\n",
        "df.head()"
      ],
      "execution_count": 455,
      "outputs": [
        {
          "output_type": "execute_result",
          "data": {
            "text/html": [
              "<div>\n",
              "<style scoped>\n",
              "    .dataframe tbody tr th:only-of-type {\n",
              "        vertical-align: middle;\n",
              "    }\n",
              "\n",
              "    .dataframe tbody tr th {\n",
              "        vertical-align: top;\n",
              "    }\n",
              "\n",
              "    .dataframe thead th {\n",
              "        text-align: right;\n",
              "    }\n",
              "</style>\n",
              "<table border=\"1\" class=\"dataframe\">\n",
              "  <thead>\n",
              "    <tr style=\"text-align: right;\">\n",
              "      <th></th>\n",
              "      <th>Postcode</th>\n",
              "      <th>Borough</th>\n",
              "      <th>Neighbourhood</th>\n",
              "      <th>Latitude</th>\n",
              "      <th>Longitude</th>\n",
              "    </tr>\n",
              "  </thead>\n",
              "  <tbody>\n",
              "    <tr>\n",
              "      <th>0</th>\n",
              "      <td>M9W</td>\n",
              "      <td>Etobicoke</td>\n",
              "      <td>Northwest</td>\n",
              "      <td>0.0</td>\n",
              "      <td>0.0</td>\n",
              "    </tr>\n",
              "    <tr>\n",
              "      <th>1</th>\n",
              "      <td>M9V</td>\n",
              "      <td>Etobicoke</td>\n",
              "      <td>Albion Gardens, Beaumond Heights, Humbergate, ...</td>\n",
              "      <td>0.0</td>\n",
              "      <td>0.0</td>\n",
              "    </tr>\n",
              "    <tr>\n",
              "      <th>2</th>\n",
              "      <td>M9R</td>\n",
              "      <td>Etobicoke</td>\n",
              "      <td>Kingsview Village, Martin Grove Gardens, Richv...</td>\n",
              "      <td>0.0</td>\n",
              "      <td>0.0</td>\n",
              "    </tr>\n",
              "    <tr>\n",
              "      <th>3</th>\n",
              "      <td>M9P</td>\n",
              "      <td>Etobicoke</td>\n",
              "      <td>Westmount</td>\n",
              "      <td>0.0</td>\n",
              "      <td>0.0</td>\n",
              "    </tr>\n",
              "    <tr>\n",
              "      <th>4</th>\n",
              "      <td>M9N</td>\n",
              "      <td>York</td>\n",
              "      <td>Weston</td>\n",
              "      <td>0.0</td>\n",
              "      <td>0.0</td>\n",
              "    </tr>\n",
              "  </tbody>\n",
              "</table>\n",
              "</div>"
            ],
            "text/plain": [
              "  Postcode    Borough  ... Latitude  Longitude\n",
              "0      M9W  Etobicoke  ...      0.0        0.0\n",
              "1      M9V  Etobicoke  ...      0.0        0.0\n",
              "2      M9R  Etobicoke  ...      0.0        0.0\n",
              "3      M9P  Etobicoke  ...      0.0        0.0\n",
              "4      M9N       York  ...      0.0        0.0\n",
              "\n",
              "[5 rows x 5 columns]"
            ]
          },
          "metadata": {
            "tags": []
          },
          "execution_count": 455
        }
      ]
    },
    {
      "cell_type": "code",
      "metadata": {
        "id": "ewFnhPu0_Y8w",
        "colab_type": "code",
        "colab": {}
      },
      "source": [
        "for i, row in df.iterrows():\n",
        "  postcode = row[\"Postcode\"]\n",
        "  df.loc[i, \"Latitude\"] = geo_df.loc[postcode, \"Latitude\"]\n",
        "  df.loc[i, \"Longitude\"] = geo_df.loc[postcode, \"Longitude\"]"
      ],
      "execution_count": 0,
      "outputs": []
    },
    {
      "cell_type": "code",
      "metadata": {
        "id": "XQPhJ8NtENFC",
        "colab_type": "code",
        "colab": {
          "base_uri": "https://localhost:8080/",
          "height": 204
        },
        "outputId": "a14154f3-3833-4d1e-9218-7e90b852d610"
      },
      "source": [
        "df.head()"
      ],
      "execution_count": 457,
      "outputs": [
        {
          "output_type": "execute_result",
          "data": {
            "text/html": [
              "<div>\n",
              "<style scoped>\n",
              "    .dataframe tbody tr th:only-of-type {\n",
              "        vertical-align: middle;\n",
              "    }\n",
              "\n",
              "    .dataframe tbody tr th {\n",
              "        vertical-align: top;\n",
              "    }\n",
              "\n",
              "    .dataframe thead th {\n",
              "        text-align: right;\n",
              "    }\n",
              "</style>\n",
              "<table border=\"1\" class=\"dataframe\">\n",
              "  <thead>\n",
              "    <tr style=\"text-align: right;\">\n",
              "      <th></th>\n",
              "      <th>Postcode</th>\n",
              "      <th>Borough</th>\n",
              "      <th>Neighbourhood</th>\n",
              "      <th>Latitude</th>\n",
              "      <th>Longitude</th>\n",
              "    </tr>\n",
              "  </thead>\n",
              "  <tbody>\n",
              "    <tr>\n",
              "      <th>0</th>\n",
              "      <td>M9W</td>\n",
              "      <td>Etobicoke</td>\n",
              "      <td>Northwest</td>\n",
              "      <td>43.706748</td>\n",
              "      <td>-79.594054</td>\n",
              "    </tr>\n",
              "    <tr>\n",
              "      <th>1</th>\n",
              "      <td>M9V</td>\n",
              "      <td>Etobicoke</td>\n",
              "      <td>Albion Gardens, Beaumond Heights, Humbergate, ...</td>\n",
              "      <td>43.739416</td>\n",
              "      <td>-79.588437</td>\n",
              "    </tr>\n",
              "    <tr>\n",
              "      <th>2</th>\n",
              "      <td>M9R</td>\n",
              "      <td>Etobicoke</td>\n",
              "      <td>Kingsview Village, Martin Grove Gardens, Richv...</td>\n",
              "      <td>43.688905</td>\n",
              "      <td>-79.554724</td>\n",
              "    </tr>\n",
              "    <tr>\n",
              "      <th>3</th>\n",
              "      <td>M9P</td>\n",
              "      <td>Etobicoke</td>\n",
              "      <td>Westmount</td>\n",
              "      <td>43.696319</td>\n",
              "      <td>-79.532242</td>\n",
              "    </tr>\n",
              "    <tr>\n",
              "      <th>4</th>\n",
              "      <td>M9N</td>\n",
              "      <td>York</td>\n",
              "      <td>Weston</td>\n",
              "      <td>43.706876</td>\n",
              "      <td>-79.518188</td>\n",
              "    </tr>\n",
              "  </tbody>\n",
              "</table>\n",
              "</div>"
            ],
            "text/plain": [
              "  Postcode    Borough  ...   Latitude  Longitude\n",
              "0      M9W  Etobicoke  ...  43.706748 -79.594054\n",
              "1      M9V  Etobicoke  ...  43.739416 -79.588437\n",
              "2      M9R  Etobicoke  ...  43.688905 -79.554724\n",
              "3      M9P  Etobicoke  ...  43.696319 -79.532242\n",
              "4      M9N       York  ...  43.706876 -79.518188\n",
              "\n",
              "[5 rows x 5 columns]"
            ]
          },
          "metadata": {
            "tags": []
          },
          "execution_count": 457
        }
      ]
    },
    {
      "cell_type": "markdown",
      "metadata": {
        "id": "3TXk6kFDE1xW",
        "colab_type": "text"
      },
      "source": [
        "# **Part 3**"
      ]
    },
    {
      "cell_type": "code",
      "metadata": {
        "id": "EviO1xcYIGGQ",
        "colab_type": "code",
        "colab": {
          "base_uri": "https://localhost:8080/",
          "height": 221
        },
        "outputId": "7c5e02a7-b3f9-4f28-a73f-1fec6413d97a"
      },
      "source": [
        "!pip install folium==0.5.0\n",
        "!pip install geopy\n",
        "import folium\n",
        "from geopy.geocoders import Nominatim"
      ],
      "execution_count": 458,
      "outputs": [
        {
          "output_type": "stream",
          "text": [
            "Requirement already satisfied: folium==0.5.0 in /usr/local/lib/python3.6/dist-packages (0.5.0)\n",
            "Requirement already satisfied: jinja2 in /usr/local/lib/python3.6/dist-packages (from folium==0.5.0) (2.11.1)\n",
            "Requirement already satisfied: six in /usr/local/lib/python3.6/dist-packages (from folium==0.5.0) (1.12.0)\n",
            "Requirement already satisfied: branca in /usr/local/lib/python3.6/dist-packages (from folium==0.5.0) (0.3.1)\n",
            "Requirement already satisfied: requests in /usr/local/lib/python3.6/dist-packages (from folium==0.5.0) (2.21.0)\n",
            "Requirement already satisfied: MarkupSafe>=0.23 in /usr/local/lib/python3.6/dist-packages (from jinja2->folium==0.5.0) (1.1.1)\n",
            "Requirement already satisfied: certifi>=2017.4.17 in /usr/local/lib/python3.6/dist-packages (from requests->folium==0.5.0) (2019.11.28)\n",
            "Requirement already satisfied: chardet<3.1.0,>=3.0.2 in /usr/local/lib/python3.6/dist-packages (from requests->folium==0.5.0) (3.0.4)\n",
            "Requirement already satisfied: idna<2.9,>=2.5 in /usr/local/lib/python3.6/dist-packages (from requests->folium==0.5.0) (2.8)\n",
            "Requirement already satisfied: urllib3<1.25,>=1.21.1 in /usr/local/lib/python3.6/dist-packages (from requests->folium==0.5.0) (1.24.3)\n",
            "Requirement already satisfied: geopy in /usr/local/lib/python3.6/dist-packages (1.17.0)\n",
            "Requirement already satisfied: geographiclib<2,>=1.49 in /usr/local/lib/python3.6/dist-packages (from geopy) (1.50)\n"
          ],
          "name": "stdout"
        }
      ]
    },
    {
      "cell_type": "markdown",
      "metadata": {
        "id": "P8GVzdgINyhb",
        "colab_type": "text"
      },
      "source": [
        "Start Clustering"
      ]
    },
    {
      "cell_type": "code",
      "metadata": {
        "id": "If8W8kcBOKJ5",
        "colab_type": "code",
        "colab": {
          "base_uri": "https://localhost:8080/",
          "height": 204
        },
        "outputId": "7d16a19a-d196-4ba3-a1b5-74e26a21f90c"
      },
      "source": [
        "from sklearn.cluster import KMeans\n",
        "\n",
        "kmeans = KMeans(n_clusters=8).fit(df[[\"Latitude\", \"Longitude\"]])\n",
        "df[\"cluster\"] = kmeans.labels_\n",
        "df.head()"
      ],
      "execution_count": 491,
      "outputs": [
        {
          "output_type": "execute_result",
          "data": {
            "text/html": [
              "<div>\n",
              "<style scoped>\n",
              "    .dataframe tbody tr th:only-of-type {\n",
              "        vertical-align: middle;\n",
              "    }\n",
              "\n",
              "    .dataframe tbody tr th {\n",
              "        vertical-align: top;\n",
              "    }\n",
              "\n",
              "    .dataframe thead th {\n",
              "        text-align: right;\n",
              "    }\n",
              "</style>\n",
              "<table border=\"1\" class=\"dataframe\">\n",
              "  <thead>\n",
              "    <tr style=\"text-align: right;\">\n",
              "      <th></th>\n",
              "      <th>Postcode</th>\n",
              "      <th>Borough</th>\n",
              "      <th>Neighbourhood</th>\n",
              "      <th>Latitude</th>\n",
              "      <th>Longitude</th>\n",
              "      <th>cluster</th>\n",
              "      <th>color</th>\n",
              "    </tr>\n",
              "  </thead>\n",
              "  <tbody>\n",
              "    <tr>\n",
              "      <th>0</th>\n",
              "      <td>M9W</td>\n",
              "      <td>Etobicoke</td>\n",
              "      <td>Northwest</td>\n",
              "      <td>43.706748</td>\n",
              "      <td>-79.594054</td>\n",
              "      <td>7</td>\n",
              "      <td>black</td>\n",
              "    </tr>\n",
              "    <tr>\n",
              "      <th>1</th>\n",
              "      <td>M9V</td>\n",
              "      <td>Etobicoke</td>\n",
              "      <td>Albion Gardens, Beaumond Heights, Humbergate, ...</td>\n",
              "      <td>43.739416</td>\n",
              "      <td>-79.588437</td>\n",
              "      <td>4</td>\n",
              "      <td>green</td>\n",
              "    </tr>\n",
              "    <tr>\n",
              "      <th>2</th>\n",
              "      <td>M9R</td>\n",
              "      <td>Etobicoke</td>\n",
              "      <td>Kingsview Village, Martin Grove Gardens, Richv...</td>\n",
              "      <td>43.688905</td>\n",
              "      <td>-79.554724</td>\n",
              "      <td>7</td>\n",
              "      <td>black</td>\n",
              "    </tr>\n",
              "    <tr>\n",
              "      <th>3</th>\n",
              "      <td>M9P</td>\n",
              "      <td>Etobicoke</td>\n",
              "      <td>Westmount</td>\n",
              "      <td>43.696319</td>\n",
              "      <td>-79.532242</td>\n",
              "      <td>4</td>\n",
              "      <td>green</td>\n",
              "    </tr>\n",
              "    <tr>\n",
              "      <th>4</th>\n",
              "      <td>M9N</td>\n",
              "      <td>York</td>\n",
              "      <td>Weston</td>\n",
              "      <td>43.706876</td>\n",
              "      <td>-79.518188</td>\n",
              "      <td>4</td>\n",
              "      <td>green</td>\n",
              "    </tr>\n",
              "  </tbody>\n",
              "</table>\n",
              "</div>"
            ],
            "text/plain": [
              "  Postcode    Borough  ... cluster  color\n",
              "0      M9W  Etobicoke  ...       7  black\n",
              "1      M9V  Etobicoke  ...       4  green\n",
              "2      M9R  Etobicoke  ...       7  black\n",
              "3      M9P  Etobicoke  ...       4  green\n",
              "4      M9N       York  ...       4  green\n",
              "\n",
              "[5 rows x 7 columns]"
            ]
          },
          "metadata": {
            "tags": []
          },
          "execution_count": 491
        }
      ]
    },
    {
      "cell_type": "code",
      "metadata": {
        "id": "mIRgC-6ePGW3",
        "colab_type": "code",
        "colab": {
          "base_uri": "https://localhost:8080/",
          "height": 204
        },
        "outputId": "ab685147-ecd8-42e8-b0e2-ea35209b6f77"
      },
      "source": [
        "# make color for each cluster\n",
        "colors = [\"red\", \"orange\", \"yellow\", \"green\", \"blue\", \"violet\", \"white\", \"black\"]\n",
        "for i, row in df.iterrows():\n",
        "  df.loc[i, \"color\"] = colors[df.loc[i, \"cluster\"]]\n",
        "df.head()"
      ],
      "execution_count": 492,
      "outputs": [
        {
          "output_type": "execute_result",
          "data": {
            "text/html": [
              "<div>\n",
              "<style scoped>\n",
              "    .dataframe tbody tr th:only-of-type {\n",
              "        vertical-align: middle;\n",
              "    }\n",
              "\n",
              "    .dataframe tbody tr th {\n",
              "        vertical-align: top;\n",
              "    }\n",
              "\n",
              "    .dataframe thead th {\n",
              "        text-align: right;\n",
              "    }\n",
              "</style>\n",
              "<table border=\"1\" class=\"dataframe\">\n",
              "  <thead>\n",
              "    <tr style=\"text-align: right;\">\n",
              "      <th></th>\n",
              "      <th>Postcode</th>\n",
              "      <th>Borough</th>\n",
              "      <th>Neighbourhood</th>\n",
              "      <th>Latitude</th>\n",
              "      <th>Longitude</th>\n",
              "      <th>cluster</th>\n",
              "      <th>color</th>\n",
              "    </tr>\n",
              "  </thead>\n",
              "  <tbody>\n",
              "    <tr>\n",
              "      <th>0</th>\n",
              "      <td>M9W</td>\n",
              "      <td>Etobicoke</td>\n",
              "      <td>Northwest</td>\n",
              "      <td>43.706748</td>\n",
              "      <td>-79.594054</td>\n",
              "      <td>7</td>\n",
              "      <td>black</td>\n",
              "    </tr>\n",
              "    <tr>\n",
              "      <th>1</th>\n",
              "      <td>M9V</td>\n",
              "      <td>Etobicoke</td>\n",
              "      <td>Albion Gardens, Beaumond Heights, Humbergate, ...</td>\n",
              "      <td>43.739416</td>\n",
              "      <td>-79.588437</td>\n",
              "      <td>4</td>\n",
              "      <td>blue</td>\n",
              "    </tr>\n",
              "    <tr>\n",
              "      <th>2</th>\n",
              "      <td>M9R</td>\n",
              "      <td>Etobicoke</td>\n",
              "      <td>Kingsview Village, Martin Grove Gardens, Richv...</td>\n",
              "      <td>43.688905</td>\n",
              "      <td>-79.554724</td>\n",
              "      <td>7</td>\n",
              "      <td>black</td>\n",
              "    </tr>\n",
              "    <tr>\n",
              "      <th>3</th>\n",
              "      <td>M9P</td>\n",
              "      <td>Etobicoke</td>\n",
              "      <td>Westmount</td>\n",
              "      <td>43.696319</td>\n",
              "      <td>-79.532242</td>\n",
              "      <td>4</td>\n",
              "      <td>blue</td>\n",
              "    </tr>\n",
              "    <tr>\n",
              "      <th>4</th>\n",
              "      <td>M9N</td>\n",
              "      <td>York</td>\n",
              "      <td>Weston</td>\n",
              "      <td>43.706876</td>\n",
              "      <td>-79.518188</td>\n",
              "      <td>4</td>\n",
              "      <td>blue</td>\n",
              "    </tr>\n",
              "  </tbody>\n",
              "</table>\n",
              "</div>"
            ],
            "text/plain": [
              "  Postcode    Borough  ... cluster  color\n",
              "0      M9W  Etobicoke  ...       7  black\n",
              "1      M9V  Etobicoke  ...       4   blue\n",
              "2      M9R  Etobicoke  ...       7  black\n",
              "3      M9P  Etobicoke  ...       4   blue\n",
              "4      M9N       York  ...       4   blue\n",
              "\n",
              "[5 rows x 7 columns]"
            ]
          },
          "metadata": {
            "tags": []
          },
          "execution_count": 492
        }
      ]
    },
    {
      "cell_type": "markdown",
      "metadata": {
        "id": "NRQ_8gKGOI7e",
        "colab_type": "text"
      },
      "source": [
        "Draw map"
      ]
    },
    {
      "cell_type": "code",
      "metadata": {
        "id": "KJlgjgLeJVsV",
        "colab_type": "code",
        "colab": {}
      },
      "source": [
        "# Toronto Latitude and longitude coordinate\n",
        "latitude = 43.651070+0.07\n",
        "longitude = -79.347015"
      ],
      "execution_count": 0,
      "outputs": []
    },
    {
      "cell_type": "code",
      "metadata": {
        "id": "LEK2nmU3E3gc",
        "colab_type": "code",
        "colab": {
          "base_uri": "https://localhost:8080/",
          "height": 723
        },
        "outputId": "8f26c741-7c68-4f7a-9c10-034bd3c33aa4"
      },
      "source": [
        "# create map and display it\n",
        "toronto_map = folium.Map(location=[latitude, longitude], zoom_start=11)\n",
        "\n",
        "# loop through the 100 crimes and add each to the map\n",
        "for lat, lng, label, color_ in zip(df[\"Latitude\"], df[\"Longitude\"], df[\"Postcode\"], df[\"color\"]):\n",
        "    folium.CircleMarker(\n",
        "        [lat, lng],\n",
        "        radius=5, # define how big you want the circle markers to be\n",
        "        color=color_,\n",
        "        fill=True,\n",
        "        popup=label,\n",
        "        fill_color='blue',\n",
        "        fill_opacity=0.6\n",
        "    ).add_to(toronto_map)\n",
        "\n",
        "# show map\n",
        "toronto_map"
      ],
      "execution_count": 494,
      "outputs": [
        {
          "output_type": "execute_result",
          "data": {
            "text/html": [
              "<div style=\"width:100%;\"><div style=\"position:relative;width:100%;height:0;padding-bottom:60%;\"><iframe src=\"data:text/html;charset=utf-8;base64,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\" style=\"position:absolute;width:100%;height:100%;left:0;top:0;border:none !important;\" allowfullscreen webkitallowfullscreen mozallowfullscreen></iframe></div></div>"
            ],
            "text/plain": [
              "<folium.folium.Map at 0x7f0d26ca2160>"
            ]
          },
          "metadata": {
            "tags": []
          },
          "execution_count": 494
        }
      ]
    }
  ]
}